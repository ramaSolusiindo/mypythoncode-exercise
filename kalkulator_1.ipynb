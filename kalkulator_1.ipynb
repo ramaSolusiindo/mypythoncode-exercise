{
  "nbformat": 4,
  "nbformat_minor": 0,
  "metadata": {
    "colab": {
      "provenance": [],
      "authorship_tag": "ABX9TyNK2dpw4gTiqr896+oDa7oS",
      "include_colab_link": true
    },
    "kernelspec": {
      "name": "python3",
      "display_name": "Python 3"
    },
    "language_info": {
      "name": "python"
    }
  },
  "cells": [
    {
      "cell_type": "markdown",
      "metadata": {
        "id": "view-in-github",
        "colab_type": "text"
      },
      "source": [
        "<a href=\"https://colab.research.google.com/github/ramaSolusiindo/mypythoncode-exercise/blob/main/kalkulator_1.ipynb\" target=\"_parent\"><img src=\"https://colab.research.google.com/assets/colab-badge.svg\" alt=\"Open In Colab\"/></a>"
      ]
    },
    {
      "cell_type": "code",
      "source": [
        "num1 = float(input(\"Masukkan angka pertama: \"))\n",
        "num2 = float(input(\"Masukkan angka kedua: \"))\n",
        "operator = input(\"Masukkan operator (+, -, *, /): \")\n",
        "\n",
        "if operator == '+':\n",
        "    hasil = num1 + num2\n",
        "elif operator == '-':\n",
        "    hasil = num1 - num2\n",
        "elif operator == '*':\n",
        "    hasil = num1 * num2\n",
        "elif operator == '/':\n",
        "  if num1 != 0 or num2 != 0:\n",
        "    hasil = num1 / num2\n",
        "  else:\n",
        "    print(\"Tidak dapat melakukan pembagian dengan nol.\")\n",
        "else:\n",
        "    print(\"Operator tidak valid!\")\n",
        "\n",
        "print(\"Hasil:\", hasil)"
      ],
      "metadata": {
        "colab": {
          "base_uri": "https://localhost:8080/"
        },
        "id": "fyQz04o7wUqh",
        "outputId": "dfc63ff5-b36e-4f46-a2e5-d58913a15268"
      },
      "execution_count": 3,
      "outputs": [
        {
          "output_type": "stream",
          "name": "stdout",
          "text": [
            "Masukkan angka pertama: 34\n",
            "Masukkan angka kedua: 10\n",
            "Masukkan operator (+, -, *, /): *\n",
            "Hasil: 340.0\n"
          ]
        }
      ]
    }
  ]
}